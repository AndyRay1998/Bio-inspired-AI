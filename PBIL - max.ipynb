{
 "cells": [
  {
   "cell_type": "code",
   "execution_count": 1,
   "metadata": {},
   "outputs": [],
   "source": [
    "import numpy as np\n",
    "import matplotlib.pyplot as plt\n",
    "import random\n",
    "import operator\n",
    "import copy\n",
    "%matplotlib inline"
   ]
  },
  {
   "cell_type": "markdown",
   "metadata": {},
   "source": [
    "# initialization"
   ]
  },
  {
   "cell_type": "code",
   "execution_count": 140,
   "metadata": {},
   "outputs": [],
   "source": [
    "population = []\n",
    "group_size = 50\n",
    "select_num = 20\n",
    "bit_num = 6\n",
    "group_str = np.ones((1, bit_num), dtype=np.float) * 0.5\n",
    "\n",
    "for i in range(group_size):\n",
    "    temp = random.sample(range(2**bit_num), 1)[0]\n",
    "    temp = bin(temp)[2:]\n",
    "    while(len(temp)<bit_num):\n",
    "        temp = '0' + temp\n",
    "    population.append([temp, int(temp, 2)])"
   ]
  },
  {
   "cell_type": "markdown",
   "metadata": {},
   "source": [
    "# update fitness and select"
   ]
  },
  {
   "cell_type": "code",
   "execution_count": 141,
   "metadata": {},
   "outputs": [],
   "source": [
    "def uf(group_str):\n",
    "    count = np.zeros((1, bit_num), dtype=np.float)\n",
    "    for i in range(group_size):\n",
    "        # update fitness\n",
    "        population[i][1] = int(population[i][0], 2)\n",
    "        \n",
    "    # sort\n",
    "    population.sort(key=operator.itemgetter(-1), reverse=True)\n",
    "    \n",
    "    # select\n",
    "    for i in range(group_size-select_num):\n",
    "        del(population[-1])\n",
    "        \n",
    "    for i in range(select_num):\n",
    "        # update group string\n",
    "        for j in range(bit_num):\n",
    "            count[0][j] += (population[i][0][j]=='1')\n",
    "    # incremental update\n",
    "    group_str = group_str * 0.9 + 0.1 * count / float(select_num)\n",
    "    \n",
    "    return group_str"
   ]
  },
  {
   "cell_type": "markdown",
   "metadata": {},
   "source": [
    "# crossover and mutate"
   ]
  },
  {
   "cell_type": "code",
   "execution_count": 142,
   "metadata": {},
   "outputs": [],
   "source": [
    "def cnm():\n",
    "    for i in range(group_size-select_num):\n",
    "        cross_idx = random.sample(range(select_num), 2)\n",
    "        temp = population[cross_idx[0]][0][:-3] + population[cross_idx[1]][0][-3:]\n",
    "        if(random.random() < 0.1):\n",
    "            mut_idx = random.sample(range(bit_num), 1)[0]\n",
    "            temp = temp[:mut_idx] + str(int(not bool(int(temp[mut_idx])))) + temp[mut_idx+1:]\n",
    "\n",
    "        population.append([temp, 0])"
   ]
  },
  {
   "cell_type": "markdown",
   "metadata": {},
   "source": [
    "# main"
   ]
  },
  {
   "cell_type": "code",
   "execution_count": 145,
   "metadata": {},
   "outputs": [
    {
     "data": {
      "image/png": "[encoded data removed]",
      "text/plain": [
       "<Figure size 432x288 with 1 Axes>"
      ]
     },
     "metadata": {
      "needs_background": "light"
     },
     "output_type": "display_data"
    }
   ],
   "source": [
    "if __name__ == \"__main__\":\n",
    "    optimal = []\n",
    "    for h in range(100):\n",
    "        optimal.append(np.mean(group_str))\n",
    "        group_str = uf(group_str)\n",
    "        cnm()\n",
    "    plt.plot(optimal)"
   ]
  },
  {
   "cell_type": "code",
   "execution_count": null,
   "metadata": {},
   "outputs": [],
   "source": []
  }
 ],
 "metadata": {
  "kernelspec": {
   "display_name": "Python 3",
   "language": "python",
   "name": "python3"
  },
  "language_info": {
   "codemirror_mode": {
    "name": "ipython",
    "version": 3
   },
   "file_extension": ".py",
   "mimetype": "text/x-python",
   "name": "python",
   "nbconvert_exporter": "python",
   "pygments_lexer": "ipython3",
   "version": "3.8.3"
  }
 },
 "nbformat": 4,
 "nbformat_minor": 4
}
